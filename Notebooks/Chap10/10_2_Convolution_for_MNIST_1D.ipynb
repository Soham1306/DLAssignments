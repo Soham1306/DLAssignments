{
  "nbformat": 4,
  "nbformat_minor": 0,
  "metadata": {
    "colab": {
      "provenance": [],
      "include_colab_link": true
    },
    "kernelspec": {
      "name": "python3",
      "display_name": "Python 3"
    },
    "language_info": {
      "name": "python"
    }
  },
  "cells": [
    {
      "cell_type": "markdown",
      "metadata": {
        "id": "view-in-github",
        "colab_type": "text"
      },
      "source": [
        "<a href=\"https://colab.research.google.com/github/Soham1306/DLAssignments/blob/main/Notebooks/Chap10/10_2_Convolution_for_MNIST_1D.ipynb\" target=\"_parent\"><img src=\"https://colab.research.google.com/assets/colab-badge.svg\" alt=\"Open In Colab\"/></a>"
      ]
    },
    {
      "cell_type": "markdown",
      "source": [
        "# **Notebook 10.2: Convolution for MNIST-1D**\n",
        "\n",
        "This notebook investigates a 1D convolutional network for MNIST-1D as in figure 10.7 and 10.8a.\n",
        "\n",
        "Work through the cells below, running each cell in turn. In various places you will see the words \"TODO\". Follow the instructions at these places and make predictions about what is going to happen or write code to complete the functions.\n",
        "\n",
        "Contact me at udlbookmail@gmail.com if you find any mistakes or have any suggestions.\n",
        "\n"
      ],
      "metadata": {
        "id": "t9vk9Elugvmi"
      }
    },
    {
      "cell_type": "code",
      "source": [
        "# Run this if you're in a Colab to install MNIST 1D repository\n",
        "!pip install git+https://github.com/greydanus/mnist1d"
      ],
      "metadata": {
        "id": "D5yLObtZCi9J",
        "outputId": "571566e5-e93c-49ce-c202-2999e75ab0c8",
        "colab": {
          "base_uri": "https://localhost:8080/"
        }
      },
      "execution_count": 1,
      "outputs": [
        {
          "output_type": "stream",
          "name": "stdout",
          "text": [
            "Collecting git+https://github.com/greydanus/mnist1d\n",
            "  Cloning https://github.com/greydanus/mnist1d to /tmp/pip-req-build-sjrvgp72\n",
            "  Running command git clone --filter=blob:none --quiet https://github.com/greydanus/mnist1d /tmp/pip-req-build-sjrvgp72\n",
            "  Resolved https://github.com/greydanus/mnist1d to commit 7878d96082abd200c546a07a4101fa90b30fdf7e\n",
            "  Installing build dependencies ... \u001b[?25l\u001b[?25hdone\n",
            "  Getting requirements to build wheel ... \u001b[?25l\u001b[?25hdone\n",
            "  Preparing metadata (pyproject.toml) ... \u001b[?25l\u001b[?25hdone\n",
            "Requirement already satisfied: requests in /usr/local/lib/python3.11/dist-packages (from mnist1d==0.0.2.post16) (2.32.3)\n",
            "Requirement already satisfied: numpy in /usr/local/lib/python3.11/dist-packages (from mnist1d==0.0.2.post16) (2.0.2)\n",
            "Requirement already satisfied: matplotlib in /usr/local/lib/python3.11/dist-packages (from mnist1d==0.0.2.post16) (3.10.0)\n",
            "Requirement already satisfied: scipy in /usr/local/lib/python3.11/dist-packages (from mnist1d==0.0.2.post16) (1.15.2)\n",
            "Requirement already satisfied: contourpy>=1.0.1 in /usr/local/lib/python3.11/dist-packages (from matplotlib->mnist1d==0.0.2.post16) (1.3.2)\n",
            "Requirement already satisfied: cycler>=0.10 in /usr/local/lib/python3.11/dist-packages (from matplotlib->mnist1d==0.0.2.post16) (0.12.1)\n",
            "Requirement already satisfied: fonttools>=4.22.0 in /usr/local/lib/python3.11/dist-packages (from matplotlib->mnist1d==0.0.2.post16) (4.57.0)\n",
            "Requirement already satisfied: kiwisolver>=1.3.1 in /usr/local/lib/python3.11/dist-packages (from matplotlib->mnist1d==0.0.2.post16) (1.4.8)\n",
            "Requirement already satisfied: packaging>=20.0 in /usr/local/lib/python3.11/dist-packages (from matplotlib->mnist1d==0.0.2.post16) (24.2)\n",
            "Requirement already satisfied: pillow>=8 in /usr/local/lib/python3.11/dist-packages (from matplotlib->mnist1d==0.0.2.post16) (11.2.1)\n",
            "Requirement already satisfied: pyparsing>=2.3.1 in /usr/local/lib/python3.11/dist-packages (from matplotlib->mnist1d==0.0.2.post16) (3.2.3)\n",
            "Requirement already satisfied: python-dateutil>=2.7 in /usr/local/lib/python3.11/dist-packages (from matplotlib->mnist1d==0.0.2.post16) (2.9.0.post0)\n",
            "Requirement already satisfied: charset-normalizer<4,>=2 in /usr/local/lib/python3.11/dist-packages (from requests->mnist1d==0.0.2.post16) (3.4.1)\n",
            "Requirement already satisfied: idna<4,>=2.5 in /usr/local/lib/python3.11/dist-packages (from requests->mnist1d==0.0.2.post16) (3.10)\n",
            "Requirement already satisfied: urllib3<3,>=1.21.1 in /usr/local/lib/python3.11/dist-packages (from requests->mnist1d==0.0.2.post16) (2.4.0)\n",
            "Requirement already satisfied: certifi>=2017.4.17 in /usr/local/lib/python3.11/dist-packages (from requests->mnist1d==0.0.2.post16) (2025.4.26)\n",
            "Requirement already satisfied: six>=1.5 in /usr/local/lib/python3.11/dist-packages (from python-dateutil>=2.7->matplotlib->mnist1d==0.0.2.post16) (1.17.0)\n",
            "Building wheels for collected packages: mnist1d\n",
            "  Building wheel for mnist1d (pyproject.toml) ... \u001b[?25l\u001b[?25hdone\n",
            "  Created wheel for mnist1d: filename=mnist1d-0.0.2.post16-py3-none-any.whl size=14663 sha256=84714e9090e4370322de9765c24f416ea3bfc6c658ac6d83a75d0144ca9606f9\n",
            "  Stored in directory: /tmp/pip-ephem-wheel-cache-91dh0aib/wheels/d6/38/42/3d2112bc7d915f6195254ac85eb761d922d1b18f52817aa8e2\n",
            "Successfully built mnist1d\n",
            "Installing collected packages: mnist1d\n",
            "Successfully installed mnist1d-0.0.2.post16\n"
          ]
        }
      ]
    },
    {
      "cell_type": "code",
      "source": [
        "import numpy as np\n",
        "import os\n",
        "import torch, torch.nn as nn\n",
        "from torch.utils.data import TensorDataset, DataLoader\n",
        "from torch.optim.lr_scheduler import StepLR\n",
        "import matplotlib.pyplot as plt\n",
        "import mnist1d\n",
        "import random"
      ],
      "metadata": {
        "id": "YrXWAH7sUWvU"
      },
      "execution_count": 2,
      "outputs": []
    },
    {
      "cell_type": "code",
      "source": [
        "args = mnist1d.data.get_dataset_args()\n",
        "data = mnist1d.data.get_dataset(args, path='./mnist1d_data.pkl', download=False, regenerate=False)\n",
        "\n",
        "# The training and test input and outputs are in\n",
        "# data['x'], data['y'], data['x_test'], and data['y_test']\n",
        "print(\"Examples in training set: {}\".format(len(data['y'])))\n",
        "print(\"Examples in test set: {}\".format(len(data['y_test'])))\n",
        "print(\"Length of each example: {}\".format(data['x'].shape[-1]))"
      ],
      "metadata": {
        "id": "twI72ZCrCt5z",
        "outputId": "53c5c690-01cf-4d0d-99c0-50abfa1ef485",
        "colab": {
          "base_uri": "https://localhost:8080/"
        }
      },
      "execution_count": 3,
      "outputs": [
        {
          "output_type": "stream",
          "name": "stdout",
          "text": [
            "Did or could not load data from ./mnist1d_data.pkl. Rebuilding dataset...\n",
            "Examples in training set: 4000\n",
            "Examples in test set: 1000\n",
            "Length of each example: 40\n"
          ]
        }
      ]
    },
    {
      "cell_type": "code",
      "source": [
        "# Load in the data\n",
        "train_data_x = data['x'].transpose()\n",
        "train_data_y = data['y']\n",
        "val_data_x = data['x_test'].transpose()\n",
        "val_data_y = data['y_test']\n",
        "# Print out sizes\n",
        "print(\"Train data: %d examples (columns), each of which has %d dimensions (rows)\"%((train_data_x.shape[1],train_data_x.shape[0])))\n",
        "print(\"Validation data: %d examples (columns), each of which has %d dimensions (rows)\"%((val_data_x.shape[1],val_data_x.shape[0])))"
      ],
      "metadata": {
        "id": "8bKADvLHbiV5",
        "outputId": "9aeb1fb1-1bde-400c-dd11-9001b4a143b2",
        "colab": {
          "base_uri": "https://localhost:8080/"
        }
      },
      "execution_count": 4,
      "outputs": [
        {
          "output_type": "stream",
          "name": "stdout",
          "text": [
            "Train data: 4000 examples (columns), each of which has 40 dimensions (rows)\n",
            "Validation data: 1000 examples (columns), each of which has 40 dimensions (rows)\n"
          ]
        }
      ]
    },
    {
      "cell_type": "markdown",
      "source": [
        "Define the network"
      ],
      "metadata": {
        "id": "_sFvRDGrl4qe"
      }
    },
    {
      "cell_type": "code",
      "source": [
        "# There are 40 input dimensions and 10 output dimensions for this data\n",
        "# The inputs correspond to the 40 offsets in the MNIST1D template.\n",
        "D_i = 40\n",
        "# The outputs correspond to the 10 digits\n",
        "D_o = 10\n",
        "\n",
        "\n",
        "# TODO Create a model with the following layers\n",
        "\n",
        "\n",
        "# References:\n",
        "# https://pytorch.org/docs/1.13/generated/torch.nn.Conv1d.html?highlight=conv1d#torch.nn.Conv1d\n",
        "# https://pytorch.org/docs/stable/generated/torch.nn.Flatten.html\n",
        "# https://pytorch.org/docs/1.13/generated/torch.nn.Linear.html?highlight=linear#torch.nn.Linear\n",
        "\n",
        "# NOTE THAT THE CONVOLUTIONAL LAYERS NEED TO TAKE THE NUMBER OF INPUT CHANNELS AS A PARAMETER\n",
        "# AND NOT THE INPUT SIZE.\n",
        "\n",
        "# Replace the following function:\n",
        "model = nn.Sequential(\n",
        "    # 1. Convolutional layer, (input=length 40 and 1 channel, kernel size 3, stride 2, padding=\"valid\", 15 output channels )\n",
        "nn.Conv1d(in_channels=1, out_channels=15, kernel_size=3, stride=2, padding=0),\n",
        "# 2. ReLU\n",
        "nn.ReLU(),\n",
        "\n",
        "# 3. Convolutional layer, (input=length 19 and 15 channels, kernel size 3, stride 2, padding=\"valid\", 15 output channels )\n",
        "nn.Conv1d(in_channels=15, out_channels=15, kernel_size=3, stride=2, padding=0),\n",
        "# 4. ReLU\n",
        "nn.ReLU(),\n",
        "\n",
        "# 5. Convolutional layer, (input=length 9 and 15 channels, kernel size 3, stride 2, padding=\"valid\", 15 output channels)\n",
        "nn.Conv1d(in_channels=15, out_channels=15, kernel_size=3, stride=2, padding=0),\n",
        "# 6. ReLU\n",
        "nn.ReLU(),\n",
        "\n",
        "# 7. Flatten (converts 4x15) to length 60\n",
        "nn.Flatten(),\n",
        "\n",
        "# 8. Linear layer (input size = 60, output size = 10)\n",
        "nn.Linear(in_features=60, out_features=10)\n",
        ")\n",
        "\n",
        "\n",
        "\n"
      ],
      "metadata": {
        "id": "FslroPJJffrh"
      },
      "execution_count": 5,
      "outputs": []
    },
    {
      "cell_type": "code",
      "source": [
        "# He initialization of weights\n",
        "def weights_init(layer_in):\n",
        "  if isinstance(layer_in, nn.Linear):\n",
        "    nn.init.kaiming_uniform_(layer_in.weight)\n",
        "    layer_in.bias.data.fill_(0.0)"
      ],
      "metadata": {
        "id": "YgLaex1pfhqz"
      },
      "execution_count": 6,
      "outputs": []
    },
    {
      "cell_type": "code",
      "source": [
        "# choose cross entropy loss function (equation 5.24 in the loss notes)\n",
        "loss_function = nn.CrossEntropyLoss()\n",
        "# construct SGD optimizer and initialize learning rate and momentum\n",
        "optimizer = torch.optim.SGD(model.parameters(), lr = 0.05, momentum=0.9)\n",
        "# object that decreases learning rate by half every 20 epochs\n",
        "scheduler = StepLR(optimizer, step_size=20, gamma=0.5)\n",
        "# create 100 dummy data points and store in data loader class\n",
        "x_train = torch.tensor(train_data_x.transpose().astype('float32'))\n",
        "y_train = torch.tensor(train_data_y.astype('long')).long()\n",
        "x_val= torch.tensor(val_data_x.transpose().astype('float32'))\n",
        "y_val = torch.tensor(val_data_y.astype('long')).long()\n",
        "\n",
        "# load the data into a class that creates the batches\n",
        "data_loader = DataLoader(TensorDataset(x_train,y_train), batch_size=100, shuffle=True, worker_init_fn=np.random.seed(1))\n",
        "\n",
        "# Initialize model weights\n",
        "model.apply(weights_init)\n",
        "\n",
        "# loop over the dataset n_epoch times\n",
        "n_epoch = 100\n",
        "# store the loss and the % correct at each epoch\n",
        "losses_train = np.zeros((n_epoch))\n",
        "errors_train = np.zeros((n_epoch))\n",
        "losses_val = np.zeros((n_epoch))\n",
        "errors_val = np.zeros((n_epoch))\n",
        "\n",
        "for epoch in range(n_epoch):\n",
        "  # loop over batches\n",
        "  for i, data in enumerate(data_loader):\n",
        "    # retrieve inputs and labels for this batch\n",
        "    x_batch, y_batch = data\n",
        "    # zero the parameter gradients\n",
        "    optimizer.zero_grad()\n",
        "    # forward pass -- calculate model output\n",
        "    pred = model(x_batch[:,None,:])\n",
        "    # compute the loss\n",
        "    loss = loss_function(pred, y_batch)\n",
        "    # backward pass\n",
        "    loss.backward()\n",
        "    # SGD update\n",
        "    optimizer.step()\n",
        "\n",
        "  # Run whole dataset to get statistics -- normally wouldn't do this\n",
        "  pred_train = model(x_train[:,None,:])\n",
        "  pred_val = model(x_val[:,None,:])\n",
        "  _, predicted_train_class = torch.max(pred_train.data, 1)\n",
        "  _, predicted_val_class = torch.max(pred_val.data, 1)\n",
        "  errors_train[epoch] = 100 - 100 * (predicted_train_class == y_train).float().sum() / len(y_train)\n",
        "  errors_val[epoch]= 100 - 100 * (predicted_val_class == y_val).float().sum() / len(y_val)\n",
        "  losses_train[epoch] = loss_function(pred_train, y_train).item()\n",
        "  losses_val[epoch]= loss_function(pred_val, y_val).item()\n",
        "  print(f'Epoch {epoch:5d}, train loss {losses_train[epoch]:.6f}, train error {errors_train[epoch]:3.2f},  val loss {losses_val[epoch]:.6f}, percent error {errors_val[epoch]:3.2f}')\n",
        "\n",
        "  # tell scheduler to consider updating learning rate\n",
        "  scheduler.step()\n",
        "\n",
        "# Plot the results\n",
        "fig, ax = plt.subplots()\n",
        "ax.plot(errors_train,'r-',label='train')\n",
        "ax.plot(errors_val,'b-',label='validation')\n",
        "ax.set_ylim(0,100); ax.set_xlim(0,n_epoch)\n",
        "ax.set_xlabel('Epoch'); ax.set_ylabel('Error')\n",
        "ax.set_title('Part I: Validation Result %3.2f'%(errors_val[-1]))\n",
        "ax.legend()\n",
        "plt.show()"
      ],
      "metadata": {
        "id": "NYw8I_3mmX5c",
        "outputId": "1dc27c51-3ff3-400e-c6e0-a5cb3cd1e7d0",
        "colab": {
          "base_uri": "https://localhost:8080/",
          "height": 1000
        }
      },
      "execution_count": 7,
      "outputs": [
        {
          "output_type": "stream",
          "name": "stdout",
          "text": [
            "Epoch     0, train loss 2.090957, train error 79.55,  val loss 2.094443, percent error 79.50\n",
            "Epoch     1, train loss 1.549720, train error 61.00,  val loss 1.566605, percent error 64.90\n",
            "Epoch     2, train loss 1.401396, train error 58.30,  val loss 1.417636, percent error 60.20\n",
            "Epoch     3, train loss 1.313910, train error 53.90,  val loss 1.319827, percent error 54.90\n",
            "Epoch     4, train loss 1.404681, train error 58.22,  val loss 1.425813, percent error 58.40\n",
            "Epoch     5, train loss 1.179354, train error 48.22,  val loss 1.220765, percent error 51.30\n",
            "Epoch     6, train loss 1.096192, train error 43.50,  val loss 1.138946, percent error 47.00\n",
            "Epoch     7, train loss 1.090669, train error 44.62,  val loss 1.146283, percent error 46.70\n",
            "Epoch     8, train loss 0.876436, train error 35.60,  val loss 0.902762, percent error 38.70\n",
            "Epoch     9, train loss 0.841130, train error 33.15,  val loss 0.879899, percent error 36.60\n",
            "Epoch    10, train loss 0.705035, train error 28.47,  val loss 0.778194, percent error 32.90\n",
            "Epoch    11, train loss 0.699777, train error 27.22,  val loss 0.769811, percent error 31.20\n",
            "Epoch    12, train loss 0.567937, train error 21.40,  val loss 0.654307, percent error 24.90\n",
            "Epoch    13, train loss 0.562684, train error 22.35,  val loss 0.676361, percent error 26.60\n",
            "Epoch    14, train loss 0.500521, train error 18.65,  val loss 0.586215, percent error 22.10\n",
            "Epoch    15, train loss 0.459376, train error 17.55,  val loss 0.587844, percent error 20.80\n",
            "Epoch    16, train loss 0.385348, train error 13.82,  val loss 0.505997, percent error 18.10\n",
            "Epoch    17, train loss 0.396105, train error 14.20,  val loss 0.556158, percent error 19.60\n",
            "Epoch    18, train loss 0.298865, train error 10.45,  val loss 0.410976, percent error 13.60\n",
            "Epoch    19, train loss 0.264855, train error 8.82,  val loss 0.385008, percent error 12.90\n",
            "Epoch    20, train loss 0.223019, train error 7.60,  val loss 0.390414, percent error 12.40\n",
            "Epoch    21, train loss 0.242009, train error 8.47,  val loss 0.385634, percent error 12.10\n",
            "Epoch    22, train loss 0.188528, train error 6.10,  val loss 0.330715, percent error 10.70\n",
            "Epoch    23, train loss 0.196535, train error 6.88,  val loss 0.371283, percent error 11.80\n",
            "Epoch    24, train loss 0.177205, train error 5.57,  val loss 0.374980, percent error 11.70\n",
            "Epoch    25, train loss 0.209885, train error 7.10,  val loss 0.382618, percent error 12.30\n",
            "Epoch    26, train loss 0.161414, train error 5.40,  val loss 0.359598, percent error 11.10\n",
            "Epoch    27, train loss 0.139475, train error 4.32,  val loss 0.334181, percent error 11.00\n",
            "Epoch    28, train loss 0.149856, train error 5.07,  val loss 0.350005, percent error 11.30\n",
            "Epoch    29, train loss 0.158763, train error 4.95,  val loss 0.382869, percent error 11.50\n",
            "Epoch    30, train loss 0.130419, train error 4.05,  val loss 0.322092, percent error 10.00\n",
            "Epoch    31, train loss 0.144314, train error 5.10,  val loss 0.357636, percent error 10.20\n",
            "Epoch    32, train loss 0.133795, train error 4.62,  val loss 0.339343, percent error 11.20\n",
            "Epoch    33, train loss 0.137661, train error 4.78,  val loss 0.354123, percent error 10.40\n",
            "Epoch    34, train loss 0.106707, train error 3.28,  val loss 0.328514, percent error 10.00\n",
            "Epoch    35, train loss 0.114316, train error 3.85,  val loss 0.353254, percent error 11.10\n",
            "Epoch    36, train loss 0.111531, train error 3.57,  val loss 0.344585, percent error 10.50\n",
            "Epoch    37, train loss 0.101316, train error 3.12,  val loss 0.315806, percent error 10.20\n",
            "Epoch    38, train loss 0.107312, train error 3.45,  val loss 0.354437, percent error 10.80\n",
            "Epoch    39, train loss 0.124971, train error 4.20,  val loss 0.371663, percent error 10.80\n",
            "Epoch    40, train loss 0.076874, train error 1.97,  val loss 0.324305, percent error 10.10\n",
            "Epoch    41, train loss 0.076332, train error 1.82,  val loss 0.336216, percent error 10.70\n",
            "Epoch    42, train loss 0.074157, train error 1.97,  val loss 0.348841, percent error 11.20\n",
            "Epoch    43, train loss 0.068935, train error 1.60,  val loss 0.337781, percent error 10.90\n",
            "Epoch    44, train loss 0.068125, train error 1.70,  val loss 0.337528, percent error 10.50\n",
            "Epoch    45, train loss 0.067109, train error 1.85,  val loss 0.346461, percent error 10.40\n",
            "Epoch    46, train loss 0.066079, train error 1.90,  val loss 0.350770, percent error 11.50\n",
            "Epoch    47, train loss 0.061600, train error 1.60,  val loss 0.332085, percent error 10.70\n",
            "Epoch    48, train loss 0.068959, train error 1.78,  val loss 0.339091, percent error 10.50\n",
            "Epoch    49, train loss 0.068875, train error 1.88,  val loss 0.338075, percent error 10.40\n",
            "Epoch    50, train loss 0.064008, train error 1.60,  val loss 0.367235, percent error 10.70\n",
            "Epoch    51, train loss 0.062951, train error 1.70,  val loss 0.356863, percent error 10.80\n",
            "Epoch    52, train loss 0.058087, train error 1.47,  val loss 0.355971, percent error 11.00\n",
            "Epoch    53, train loss 0.068477, train error 1.93,  val loss 0.366331, percent error 10.30\n",
            "Epoch    54, train loss 0.061738, train error 1.78,  val loss 0.374908, percent error 10.80\n",
            "Epoch    55, train loss 0.054158, train error 1.25,  val loss 0.356049, percent error 10.80\n",
            "Epoch    56, train loss 0.060233, train error 1.72,  val loss 0.346945, percent error 10.80\n",
            "Epoch    57, train loss 0.056370, train error 1.62,  val loss 0.378619, percent error 11.30\n",
            "Epoch    58, train loss 0.053300, train error 1.35,  val loss 0.380855, percent error 11.00\n",
            "Epoch    59, train loss 0.055261, train error 1.72,  val loss 0.377028, percent error 11.00\n",
            "Epoch    60, train loss 0.046519, train error 0.97,  val loss 0.359051, percent error 11.10\n",
            "Epoch    61, train loss 0.045247, train error 0.93,  val loss 0.367475, percent error 11.00\n",
            "Epoch    62, train loss 0.045107, train error 0.93,  val loss 0.371764, percent error 11.10\n",
            "Epoch    63, train loss 0.045600, train error 0.85,  val loss 0.372695, percent error 10.80\n",
            "Epoch    64, train loss 0.047248, train error 1.05,  val loss 0.380998, percent error 10.80\n",
            "Epoch    65, train loss 0.043140, train error 0.93,  val loss 0.366755, percent error 10.60\n",
            "Epoch    66, train loss 0.042502, train error 0.85,  val loss 0.371175, percent error 11.00\n",
            "Epoch    67, train loss 0.042845, train error 0.78,  val loss 0.373561, percent error 11.00\n",
            "Epoch    68, train loss 0.041290, train error 0.80,  val loss 0.369274, percent error 10.70\n",
            "Epoch    69, train loss 0.041796, train error 0.82,  val loss 0.374074, percent error 10.60\n",
            "Epoch    70, train loss 0.040955, train error 0.82,  val loss 0.376981, percent error 10.80\n",
            "Epoch    71, train loss 0.041328, train error 0.90,  val loss 0.368948, percent error 10.80\n",
            "Epoch    72, train loss 0.040877, train error 0.85,  val loss 0.385050, percent error 10.80\n",
            "Epoch    73, train loss 0.039290, train error 0.75,  val loss 0.382495, percent error 11.20\n",
            "Epoch    74, train loss 0.038666, train error 0.65,  val loss 0.381466, percent error 11.00\n",
            "Epoch    75, train loss 0.039198, train error 0.57,  val loss 0.384001, percent error 10.60\n",
            "Epoch    76, train loss 0.039319, train error 0.75,  val loss 0.386669, percent error 10.50\n",
            "Epoch    77, train loss 0.037555, train error 0.62,  val loss 0.381918, percent error 11.00\n",
            "Epoch    78, train loss 0.038119, train error 0.65,  val loss 0.385737, percent error 10.70\n",
            "Epoch    79, train loss 0.036713, train error 0.68,  val loss 0.390226, percent error 10.50\n",
            "Epoch    80, train loss 0.036163, train error 0.62,  val loss 0.381936, percent error 11.00\n",
            "Epoch    81, train loss 0.035935, train error 0.53,  val loss 0.382873, percent error 10.60\n",
            "Epoch    82, train loss 0.035534, train error 0.55,  val loss 0.386336, percent error 10.50\n",
            "Epoch    83, train loss 0.035511, train error 0.60,  val loss 0.385855, percent error 10.80\n",
            "Epoch    84, train loss 0.035230, train error 0.57,  val loss 0.384805, percent error 10.60\n",
            "Epoch    85, train loss 0.035003, train error 0.62,  val loss 0.386966, percent error 10.90\n",
            "Epoch    86, train loss 0.034946, train error 0.60,  val loss 0.386805, percent error 10.80\n",
            "Epoch    87, train loss 0.034984, train error 0.60,  val loss 0.389876, percent error 10.40\n",
            "Epoch    88, train loss 0.035115, train error 0.62,  val loss 0.384377, percent error 10.80\n",
            "Epoch    89, train loss 0.034428, train error 0.57,  val loss 0.385792, percent error 10.60\n",
            "Epoch    90, train loss 0.033994, train error 0.60,  val loss 0.391198, percent error 10.70\n",
            "Epoch    91, train loss 0.033888, train error 0.60,  val loss 0.388056, percent error 10.70\n",
            "Epoch    92, train loss 0.033937, train error 0.50,  val loss 0.388174, percent error 10.60\n",
            "Epoch    93, train loss 0.034160, train error 0.55,  val loss 0.392187, percent error 10.40\n",
            "Epoch    94, train loss 0.034711, train error 0.55,  val loss 0.391591, percent error 10.80\n",
            "Epoch    95, train loss 0.033228, train error 0.53,  val loss 0.390815, percent error 10.50\n",
            "Epoch    96, train loss 0.034555, train error 0.60,  val loss 0.393888, percent error 10.80\n",
            "Epoch    97, train loss 0.033167, train error 0.55,  val loss 0.392565, percent error 10.70\n",
            "Epoch    98, train loss 0.032868, train error 0.55,  val loss 0.387939, percent error 10.70\n",
            "Epoch    99, train loss 0.032693, train error 0.53,  val loss 0.392446, percent error 10.40\n"
          ]
        },
        {
          "output_type": "display_data",
          "data": {
            "text/plain": [
              "<Figure size 640x480 with 1 Axes>"
            ],
            "image/png": "[encoded data removed]"
          },
          "metadata": {}
        }
      ]
    }
  ]
}